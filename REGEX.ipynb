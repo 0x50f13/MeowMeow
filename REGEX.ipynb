{
  "nbformat": 4,
  "nbformat_minor": 0,
  "metadata": {
    "kernelspec": {
      "display_name": "Python 3",
      "language": "python",
      "name": "python3"
    },
    "language_info": {
      "codemirror_mode": {
        "name": "ipython",
        "version": 3
      },
      "file_extension": ".py",
      "mimetype": "text/x-python",
      "name": "python",
      "nbconvert_exporter": "python",
      "pygments_lexer": "ipython3",
      "version": "3.6.4"
    },
    "colab": {
      "name": "REGEX.ipynb",
      "provenance": [],
      "include_colab_link": true
    }
  },
  "cells": [
    {
      "cell_type": "markdown",
      "metadata": {
        "id": "view-in-github",
        "colab_type": "text"
      },
      "source": [
        "<a href=\"https://colab.research.google.com/github/Andrewerr/Ghost-WebServer/blob/master/REGEX.ipynb\" target=\"_parent\"><img src=\"https://colab.research.google.com/assets/colab-badge.svg\" alt=\"Open In Colab\"/></a>"
      ]
    },
    {
      "cell_type": "markdown",
      "metadata": {
        "id": "sue-spjjKCJV",
        "colab_type": "text"
      },
      "source": [
        "# Regular expression (regex or regexp) \n",
        "is a sequence of characters that define a search pattern. Usually such patterns are used by string searching algorithms for \"find\" or \"find and replace\" operations on strings, or for input validation. It is a technique developed in theoretical computer science and formal language theory. \n",
        "\n",
        "https://en.wikipedia.org/wiki/Regular_expression"
      ]
    },
    {
      "cell_type": "markdown",
      "metadata": {
        "id": "3VB2eKHyKCJV",
        "colab_type": "text"
      },
      "source": [
        "## Operator Description\n",
        "* . ---- Any single character except the newline \\n.\n",
        "* ? ---- 0 or 1 occurrence of the pattern on the left\n",
        "* \\+ ---- 1 or more occurrences of the pattern on the left\n",
        "* \\*  ---- 0 or more occurrences of the pattern on the left\n",
        "* \\w  ---- Any number or letter (\\ W - everything except a letter or number)\n",
        "* \\d ---- Any digit [0-9] (\\ D - everything except the digit)\n",
        "* \\s ---- Any whitespace character (\\ S is any non-whitespace character)\n",
        "* \\b ---- Word boundary\n",
        "* [..] ---- One of the characters in brackets ([^ ..] - any character except those in brackets)\n",
        "* \\ ---- Escaping special characters (\\. Means a dot or \\+ is a plus sign)\n",
        "* ^ and $ ---- Beginning and end of line, respectively\n",
        "* {n, m} ---- From n to m occurrences ({, m} - from 0 to m)\n",
        "* a|b ---- Matches a or b\n",
        "* () ---- Groups an expression and returns the found text\n",
        "* \\t, \\n, \\r ---- Tab, newline, and carriage returns respectively"
      ]
    },
    {
      "cell_type": "code",
      "metadata": {
        "id": "xd-g6A3iKCJW",
        "colab_type": "code",
        "colab": {}
      },
      "source": [
        "import re"
      ],
      "execution_count": 0,
      "outputs": []
    },
    {
      "cell_type": "code",
      "metadata": {
        "id": "EDG0ENMZKCJX",
        "colab_type": "code",
        "colab": {
          "base_uri": "https://localhost:8080/",
          "height": 130
        },
        "outputId": "1b8ea79b-5e78-4e23-cbf3-58f1e42ec252"
      },
      "source": [
        "re."
      ],
      "execution_count": 2,
      "outputs": [
        {
          "output_type": "error",
          "ename": "SyntaxError",
          "evalue": "ignored",
          "traceback": [
            "\u001b[0;36m  File \u001b[0;32m\"<ipython-input-2-7e1da8ee0506>\"\u001b[0;36m, line \u001b[0;32m1\u001b[0m\n\u001b[0;31m    re.\u001b[0m\n\u001b[0m       ^\u001b[0m\n\u001b[0;31mSyntaxError\u001b[0m\u001b[0;31m:\u001b[0m invalid syntax\n"
          ]
        }
      ]
    },
    {
      "cell_type": "code",
      "metadata": {
        "id": "ankYAgyxKCJY",
        "colab_type": "code",
        "colab": {}
      },
      "source": [
        "line = 'Hello, my friends! How are you?'"
      ],
      "execution_count": 0,
      "outputs": []
    },
    {
      "cell_type": "code",
      "metadata": {
        "id": "pgB-n0fLKCJZ",
        "colab_type": "code",
        "colab": {
          "base_uri": "https://localhost:8080/",
          "height": 34
        },
        "outputId": "a86e3fe3-7aad-4374-81ce-0351b2d8281d"
      },
      "source": [
        "print(re.findall('.',line)) # all symbols"
      ],
      "execution_count": 4,
      "outputs": [
        {
          "output_type": "stream",
          "text": [
            "['H', 'e', 'l', 'l', 'o', ',', ' ', 'm', 'y', ' ', 'f', 'r', 'i', 'e', 'n', 'd', 's', '!', ' ', 'H', 'o', 'w', ' ', 'a', 'r', 'e', ' ', 'y', 'o', 'u', '?']\n"
          ],
          "name": "stdout"
        }
      ]
    },
    {
      "cell_type": "code",
      "metadata": {
        "id": "d6oX0E3yKCJa",
        "colab_type": "code",
        "colab": {
          "base_uri": "https://localhost:8080/",
          "height": 34
        },
        "outputId": "86b0e6df-e855-409f-807d-f96cfd3f0842"
      },
      "source": [
        "print(re.findall('\\w',line))"
      ],
      "execution_count": 5,
      "outputs": [
        {
          "output_type": "stream",
          "text": [
            "['H', 'e', 'l', 'l', 'o', 'm', 'y', 'f', 'r', 'i', 'e', 'n', 'd', 's', 'H', 'o', 'w', 'a', 'r', 'e', 'y', 'o', 'u']\n"
          ],
          "name": "stdout"
        }
      ]
    },
    {
      "cell_type": "code",
      "metadata": {
        "id": "2PH4_mMXKCJa",
        "colab_type": "code",
        "colab": {
          "base_uri": "https://localhost:8080/",
          "height": 34
        },
        "outputId": "ff873f6c-ff9c-4584-ff9e-3ddbe385560d"
      },
      "source": [
        "print(re.findall('\\w*',line))"
      ],
      "execution_count": 6,
      "outputs": [
        {
          "output_type": "stream",
          "text": [
            "['Hello', '', '', 'my', '', 'friends', '', '', 'How', '', 'are', '', 'you', '', '']\n"
          ],
          "name": "stdout"
        }
      ]
    },
    {
      "cell_type": "code",
      "metadata": {
        "id": "Etb8DngtKCJb",
        "colab_type": "code",
        "colab": {
          "base_uri": "https://localhost:8080/",
          "height": 34
        },
        "outputId": "39aca6cc-c6a9-4c6a-a4b6-61d5784886b0"
      },
      "source": [
        "print(re.findall('\\w+',line))"
      ],
      "execution_count": 7,
      "outputs": [
        {
          "output_type": "stream",
          "text": [
            "['Hello', 'my', 'friends', 'How', 'are', 'you']\n"
          ],
          "name": "stdout"
        }
      ]
    },
    {
      "cell_type": "code",
      "metadata": {
        "id": "WuzvGNATKCJc",
        "colab_type": "code",
        "colab": {
          "base_uri": "https://localhost:8080/",
          "height": 34
        },
        "outputId": "ca34bf35-3a03-441a-e6da-a372fa7f59cf"
      },
      "source": [
        "print(re.findall('\\w+',line))"
      ],
      "execution_count": 17,
      "outputs": [
        {
          "output_type": "stream",
          "text": [
            "['Hello', 'my', 'friends', 'How', 'are', 'you']\n"
          ],
          "name": "stdout"
        }
      ]
    },
    {
      "cell_type": "code",
      "metadata": {
        "id": "GoSQd5vCKCJd",
        "colab_type": "code",
        "colab": {
          "base_uri": "https://localhost:8080/",
          "height": 34
        },
        "outputId": "70ee9568-2854-4ca5-8af9-2d30c02bb494"
      },
      "source": [
        "print(re.findall('\\w+\\?$',line))"
      ],
      "execution_count": 25,
      "outputs": [
        {
          "output_type": "stream",
          "text": [
            "['you?']\n"
          ],
          "name": "stdout"
        }
      ]
    },
    {
      "cell_type": "code",
      "metadata": {
        "id": "rZ5au-fsKCJe",
        "colab_type": "code",
        "colab": {}
      },
      "source": [
        "print(re.findall('\\w\\w',line))"
      ],
      "execution_count": 0,
      "outputs": []
    },
    {
      "cell_type": "code",
      "metadata": {
        "id": "aJnZZH_hKCJf",
        "colab_type": "code",
        "colab": {}
      },
      "source": [
        "with_date = 'Today is 19.09.2019 Thursday'"
      ],
      "execution_count": 0,
      "outputs": []
    },
    {
      "cell_type": "code",
      "metadata": {
        "id": "OQe8xSGuKCJg",
        "colab_type": "code",
        "colab": {}
      },
      "source": [
        "re.findall('\\d{2}\\.\\d{2}\\.\\d{4}',with_date)"
      ],
      "execution_count": 0,
      "outputs": []
    },
    {
      "cell_type": "markdown",
      "metadata": {
        "id": "Z8U6FMsyKCJh",
        "colab_type": "text"
      },
      "source": [
        "### Assigments"
      ]
    },
    {
      "cell_type": "code",
      "metadata": {
        "id": "FalkrqxfKCJh",
        "colab_type": "code",
        "colab": {
          "base_uri": "https://localhost:8080/",
          "height": 34
        },
        "outputId": "1f0f3065-1ed7-4d27-b45c-e95fc5daadee"
      },
      "source": [
        "emails = 'me@me.me, you@you.hse.ru? \\\n",
        "qwerty@qwerty.com! and asdfg.asdfdg@company.com, newaccount11@gmail.com'\n",
        "print(re.findall(\"([A-Z|a-z|0-9|\\w|\\.]+@[A-Z|a-z|0-9|\\w|\\.]+)+\",emails))"
      ],
      "execution_count": 42,
      "outputs": [
        {
          "output_type": "stream",
          "text": [
            "['me@me.me', 'you@you.hse.ru', 'qwerty@qwerty.com', 'asdfg.asdfdg@company.com', 'newaccount11@gmail.com']\n"
          ],
          "name": "stdout"
        }
      ]
    },
    {
      "cell_type": "code",
      "metadata": {
        "id": "nKabPhF9KCJi",
        "colab_type": "code",
        "colab": {}
      },
      "source": [
        "re.findall('@me',emails)"
      ],
      "execution_count": 0,
      "outputs": []
    },
    {
      "cell_type": "code",
      "metadata": {
        "id": "-BnVMaK7KCJi",
        "colab_type": "code",
        "colab": {
          "base_uri": "https://localhost:8080/",
          "height": 34
        },
        "outputId": "251b806a-ce48-4600-a88d-c2f61769856e"
      },
      "source": [
        "dates = 'Days 01.01.1901 and 2019-09-19! New 10 dates are here: \\\n",
        "errors at host 127.0.0.1 at 23.12.2018 and 23.12.2018T19:00:00'\n",
        "print(re.findall(\"([\\d{2}\\d{4}]+[\\.\\-]\\d{2}[\\.\\-][\\d{2}\\d{4}]+)+\",dates))"
      ],
      "execution_count": 95,
      "outputs": [
        {
          "output_type": "stream",
          "text": [
            "['01.01.1901', '2019-09-19', '23.12.2018', '23.12.2018']\n"
          ],
          "name": "stdout"
        }
      ]
    },
    {
      "cell_type": "markdown",
      "metadata": {
        "id": "Qf0XzoC4KCJj",
        "colab_type": "text"
      },
      "source": [
        "### sub all vowels to '*'"
      ]
    },
    {
      "cell_type": "code",
      "metadata": {
        "id": "fxlcXaUWKCJj",
        "colab_type": "code",
        "colab": {
          "base_uri": "https://localhost:8080/",
          "height": 74
        },
        "outputId": "cbae8ecd-35de-4a99-f8e7-20ca39c260b7"
      },
      "source": [
        "regex_is_vowels = 'is a sequence of characters that define a search pattern. \\\n",
        "Usually such patterns are used by string searching algorithms for \"find\"\\\n",
        "or \"find and replace\" operations on strings, or for input validation.\\\n",
        "It is a technique developed in theoretical computer science and formal language theory.'\n",
        "re.sub(r'[aeioyu]','*',regex_is_vowels)"
      ],
      "execution_count": 99,
      "outputs": [
        {
          "output_type": "execute_result",
          "data": {
            "text/plain": [
              "'*s * s*q**nc* *f ch*r*ct*rs th*t d*f*n* * s**rch p*tt*rn. Us**ll* s*ch p*tt*rns *r* *s*d b* str*ng s**rch*ng *lg*r*thms f*r \"f*nd\"*r \"f*nd *nd r*pl*c*\" *p*r*t**ns *n str*ngs, *r f*r *np*t v*l*d*t**n.It *s * t*chn*q** d*v*l*p*d *n th**r*t*c*l c*mp*t*r sc**nc* *nd f*rm*l l*ng**g* th**r*.'"
            ]
          },
          "metadata": {
            "tags": []
          },
          "execution_count": 99
        }
      ]
    },
    {
      "cell_type": "markdown",
      "metadata": {
        "id": "s82TUUhxKCJk",
        "colab_type": "text"
      },
      "source": [
        "### split by punctuation marks"
      ]
    },
    {
      "cell_type": "code",
      "metadata": {
        "id": "faqOAwHGKCJk",
        "colab_type": "code",
        "colab": {
          "base_uri": "https://localhost:8080/",
          "height": 34
        },
        "outputId": "94d2eea4-ac82-438d-e2a9-2fb26a88d1df"
      },
      "source": [
        "regex_split = 'sad%ksakjd:sadsa;SDSD123!11242:xxxx?s,!'\n",
        "re.split(\"[\\.!,;:\\?]+\",regex_split)"
      ],
      "execution_count": 107,
      "outputs": [
        {
          "output_type": "execute_result",
          "data": {
            "text/plain": [
              "['sad%ksakjd', 'sadsa', 'SDSD123', '11242', 'xxxx', 's', '']"
            ]
          },
          "metadata": {
            "tags": []
          },
          "execution_count": 107
        }
      ]
    },
    {
      "cell_type": "markdown",
      "metadata": {
        "id": "bUBJ3ygBKCJl",
        "colab_type": "text"
      },
      "source": [
        "### if valid phone number print YES else NO"
      ]
    },
    {
      "cell_type": "code",
      "metadata": {
        "id": "Hv3PDsmCKCJl",
        "colab_type": "code",
        "colab": {
          "base_uri": "https://localhost:8080/",
          "height": 170
        },
        "outputId": "d64b5b3a-2e60-423f-828e-a39e731c5a4d"
      },
      "source": [
        "is_phones = ['+71231231231','89999999999',\\\n",
        "             '8-923-123-21-23','8999131231981230214','213X123s213',\\\n",
        "            '+79192318123212','+7-92873-12331','+19271312341','+7881221233o1']\n",
        "for phone in is_phones:\n",
        "    r=re.match(\"\\+?(\\d\\-|\\d){11}$\",phone)\n",
        "    if r:\n",
        "      print(\"%s is valid\"%phone)\n",
        "    else:\n",
        "      print(\"%s is invalid\"%phone)"
      ],
      "execution_count": 126,
      "outputs": [
        {
          "output_type": "stream",
          "text": [
            "+71231231231 is valid\n",
            "89999999999 is valid\n",
            "8-923-123-21-23 is valid\n",
            "8999131231981230214 is invalid\n",
            "213X123s213 is invalid\n",
            "+79192318123212 is invalid\n",
            "+7-92873-12331 is valid\n",
            "+19271312341 is valid\n",
            "+7881221233o1 is invalid\n"
          ],
          "name": "stdout"
        }
      ]
    },
    {
      "cell_type": "code",
      "metadata": {
        "id": "KfipgRKlKCJm",
        "colab_type": "code",
        "colab": {}
      },
      "source": [
        ""
      ],
      "execution_count": 0,
      "outputs": []
    }
  ]
}